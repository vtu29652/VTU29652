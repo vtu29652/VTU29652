{
  "nbformat": 4,
  "nbformat_minor": 0,
  "metadata": {
    "colab": {
      "provenance": [],
      "authorship_tag": "ABX9TyMG4kK+VBACWfzuAdR4CE8r",
      "include_colab_link": true
    },
    "kernelspec": {
      "name": "python3",
      "display_name": "Python 3"
    },
    "language_info": {
      "name": "python"
    }
  },
  "cells": [
    {
      "cell_type": "markdown",
      "metadata": {
        "id": "view-in-github",
        "colab_type": "text"
      },
      "source": [
        "<a href=\"https://colab.research.google.com/github/vtu29652/VTU29652/blob/main/task_10.ipynb\" target=\"_parent\"><img src=\"https://colab.research.google.com/assets/colab-badge.svg\" alt=\"Open In Colab\"/></a>"
      ]
    },
    {
      "cell_type": "code",
      "execution_count": null,
      "metadata": {
        "id": "iQ8b0t1kpYEq"
      },
      "outputs": [],
      "source": [
        "import numpy as np\n",
        "import matplotlib.pyplot as plt\n",
        "x = np.linspace(0, 2*np.pi, 1000)\n",
        "y = np.sin(x)\n",
        "plt.plot(x, y)\n",
        "plt.title('Sine Wave')\n",
        "plt.xlabel('x')\n",
        "plt.ylabel('sin(x)')\n",
        "plt.grid(True)\n",
        "plt.show()"
      ]
    },
    {
      "cell_type": "code",
      "source": [
        "import matplotlib.pyplot as plt\n",
        "intervals = ['140-145', '145-150', '151-156', '157-162', '163-168', '168-173', '173-178', '179-184',\n",
        "'185-190', '190-195']\n",
        "frequencies = [2, 5, 15, 31, 46, 53, 45, 28, 21, 4]\n",
        "plt.bar(intervals, frequencies, edgecolor='red')\n",
        "plt.xlabel('Height Intervals (cm)')\n",
        "plt.ylabel('Frequency')\n",
        "plt.title('Height Distribution Histogram')\n",
        "plt.grid(True)\n",
        "plt.show()\n",
        ""
      ],
      "metadata": {
        "id": "18Cvn4BHpfXK"
      },
      "execution_count": null,
      "outputs": []
    },
    {
      "cell_type": "code",
      "source": [
        "import matplotlib.pyplot as plt\n",
        "x= [5, 7, 8, 7, 2, 17, 2, 9, 4, 11, 12, 9, 6]\n",
        "y = [99, 86, 87, 88, 111, 86, 103, 87, 94, 78, 77, 85, 86]\n",
        "plt.scatter(x, y, color='blue')\n",
        "plt.xlabel('X AXIS')\n",
        "plt.ylabel('Y AXIS')\n",
        "plt.title('Scatter Plot')\n",
        "plt.show()"
      ],
      "metadata": {
        "id": "vyX65GcPpi1n"
      },
      "execution_count": null,
      "outputs": []
    },
    {
      "cell_type": "code",
      "source": [
        "\n",
        "import matplotlib.pyplot as plt\n",
        "sizes = [35, 25, 25, 15]\n",
        "mylabels = ['w', 'x', 'y', 'z']\n",
        "myexplode = [0.2, 0, 0, 0]\n",
        "plt.pie(sizes, labels=mylabels, explode=myexplode, shadow = True, autopct='%1.1f%%')\n",
        "plt.title('Pie Chart')\n",
        "plt.show()"
      ],
      "metadata": {
        "id": "Fqb7smVJpqqP"
      },
      "execution_count": null,
      "outputs": []
    }
  ]
}