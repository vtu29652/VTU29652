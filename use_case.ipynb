{
  "nbformat": 4,
  "nbformat_minor": 0,
  "metadata": {
    "colab": {
      "provenance": [],
      "authorship_tag": "ABX9TyO5gumeAFBVhgixyjIvKXOV",
      "include_colab_link": true
    },
    "kernelspec": {
      "name": "python3",
      "display_name": "Python 3"
    },
    "language_info": {
      "name": "python"
    }
  },
  "cells": [
    {
      "cell_type": "markdown",
      "metadata": {
        "id": "view-in-github",
        "colab_type": "text"
      },
      "source": [
        "<a href=\"https://colab.research.google.com/github/vtu29652/VTU29652/blob/main/use_case.ipynb\" target=\"_parent\"><img src=\"https://colab.research.google.com/assets/colab-badge.svg\" alt=\"Open In Colab\"/></a>"
      ]
    },
    {
      "cell_type": "code",
      "execution_count": null,
      "metadata": {
        "id": "1F-FHErHwwlh"
      },
      "outputs": [],
      "source": [
        "import numpy as np\n",
        "import matplotlib.pyplot as plt\n",
        "# Step 1: Input from user\n",
        "n = int(input(\"Enter the number of times to roll the dice: \"))\n",
        "# Step 2: Simulate dice rolls\n",
        "dice_rolls = np.random.randint(1, 7, size=n)\n",
        "# Step 3: Frequency count\n",
        "faces = np.arange(1, 7)\n",
        "frequencies = [np.count_nonzero(dice_rolls == i) for i in faces]\n",
        "# Step 4: Display results\n",
        "print(\"\\n■ Dice Roll Results:\")\n",
        "print(dice_rolls)\n",
        "print(\"\\n■ Frequency of each face:\")\n",
        "for face, freq in zip(faces, frequencies):\n",
        " print(f\"Face {face}: {freq}\")\n",
        "# Step 5: Plot bar chart\n",
        "plt.bar(faces, frequencies, color='skyblue', edgecolor='black')\n",
        "plt.xlabel(\"Dice Face\")\n",
        "plt.ylabel(\"Frequency\")\n",
        "plt.title(f\"Dice Roll Simulation ({n} rolls)\")\n",
        "plt.xticks(faces)\n",
        "plt.show()\n",
        "Sample Output:\n",
        "Enter the number of times to roll the dice: 12"
      ]
    }
  ]
}