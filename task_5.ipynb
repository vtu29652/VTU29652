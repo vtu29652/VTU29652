{
  "nbformat": 4,
  "nbformat_minor": 0,
  "metadata": {
    "colab": {
      "provenance": [],
      "authorship_tag": "ABX9TyMzjobOo3bWIZnaMe3YVU+R",
      "include_colab_link": true
    },
    "kernelspec": {
      "name": "python3",
      "display_name": "Python 3"
    },
    "language_info": {
      "name": "python"
    }
  },
  "cells": [
    {
      "cell_type": "markdown",
      "metadata": {
        "id": "view-in-github",
        "colab_type": "text"
      },
      "source": [
        "<a href=\"https://colab.research.google.com/github/vtu29652/VTU29652/blob/main/task_5.ipynb\" target=\"_parent\"><img src=\"https://colab.research.google.com/assets/colab-badge.svg\" alt=\"Open In Colab\"/></a>"
      ]
    },
    {
      "cell_type": "code",
      "execution_count": null,
      "metadata": {
        "id": "bjeZFm2Ul1_z"
      },
      "outputs": [],
      "source": [
        "def search(arr, x):\n",
        "    for i in range(len(arr)):\n",
        "        if arr[i] == x:\n",
        "            return i\n",
        "    return -1\n",
        "\n",
        "arr = [10, 20, 80, 30, 60, 50, 110, 100, 130, 170]\n",
        "x = 110\n",
        "result = search(arr, x)\n",
        "if result != -1:\n",
        "    print(\"Element\", x, \"is present at index\", result)\n",
        "else:\n",
        "    print(\"Element\", x, \"is not present in the array\")\n"
      ]
    },
    {
      "cell_type": "code",
      "source": [
        "def binary_search(nums, target):\n",
        "    left = 0\n",
        "    right = len(nums) - 1\n",
        "    while left <= right:\n",
        "        mid = left + (right - left) // 2\n",
        "        if nums[mid] == target:\n",
        "            return mid\n",
        "        elif nums[mid] < target:\n",
        "            left = mid + 1\n",
        "        else:\n",
        "            right = mid - 1\n",
        "    return -1\n",
        "\n",
        "nums = [-1, 0, 3, 5, 9, 12]\n",
        "target = 9\n",
        "print(binary_search(nums, target))\n",
        ""
      ],
      "metadata": {
        "id": "wjuglgQtmKyR"
      },
      "execution_count": null,
      "outputs": []
    },
    {
      "cell_type": "code",
      "source": [
        "def bubble_sort(arr):\n",
        "    n = len(arr)\n",
        "    for i in range(n):\n",
        "        for j in range(0, n - i - 1):\n",
        "            if arr[j] > arr[j + 1]:\n",
        "                arr[j], arr[j + 1] = arr[j + 1], arr[j]\n",
        "\n",
        "def find_sequence(arr):\n",
        "    smallest = arr[0]\n",
        "    largest = arr[-1]\n",
        "    print(\"Sequence of integers:\", smallest, \"to\", largest)\n",
        "\n",
        "n = int(input(\"Enter the number of integers: \"))\n",
        "integers = []\n",
        "print(\"Enter the integers:\")\n",
        "for _ in range(n):\n",
        "    integers.append(int(input()))\n",
        "bubble_sort(integers)\n",
        "find_sequence(integers)"
      ],
      "metadata": {
        "id": "fG0vU4I8mOiH"
      },
      "execution_count": null,
      "outputs": []
    },
    {
      "cell_type": "code",
      "source": [
        "def selection_sort(scores):\n",
        "    n = len(scores)\n",
        "    for i in range(n):\n",
        "        min_index = i\n",
        "        for j in range(i + 1, n):\n",
        "            if scores[j] < scores[min_index]:\n",
        "                min_index = j\n",
        "        scores[i], scores[min_index] = scores[min_index], scores[i]\n",
        "        print(\"After iteration\", i + 1, \":\", scores)\n",
        "\n",
        "exam_scores = [87, 65, 92, 78, 55, 70, 82]\n",
        "print(\"Initial exam scores:\", exam_scores)\n",
        "print(\"Sorting using Selection Sort:\")\n",
        "selection_sort(exam_scores)\n",
        "print(\"Final sorted exam scores:\", exam_scores)\n",
        ""
      ],
      "metadata": {
        "id": "EUJgurZbmTQi"
      },
      "execution_count": null,
      "outputs": []
    }
  ]
}