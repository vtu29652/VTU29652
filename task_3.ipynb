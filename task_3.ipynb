{
  "nbformat": 4,
  "nbformat_minor": 0,
  "metadata": {
    "colab": {
      "provenance": [],
      "authorship_tag": "ABX9TyN7wvX/UtLDPh4sBYfy828+",
      "include_colab_link": true
    },
    "kernelspec": {
      "name": "python3",
      "display_name": "Python 3"
    },
    "language_info": {
      "name": "python"
    }
  },
  "cells": [
    {
      "cell_type": "markdown",
      "metadata": {
        "id": "view-in-github",
        "colab_type": "text"
      },
      "source": [
        "<a href=\"https://colab.research.google.com/github/vtu29652/VTU29652/blob/main/task_3.ipynb\" target=\"_parent\"><img src=\"https://colab.research.google.com/assets/colab-badge.svg\" alt=\"Open In Colab\"/></a>"
      ]
    },
    {
      "cell_type": "code",
      "execution_count": null,
      "metadata": {
        "id": "1xhz6Ez0fQUD"
      },
      "outputs": [],
      "source": [
        "\n",
        "import datetime\n",
        "\n",
        "input_date = input(\"Enter the date in MM DD YYYY format: \")\n",
        "month, day, year = map(int, input_date.split())\n",
        "\n",
        "if 2000 < year < 3000:\n",
        "    x = datetime.datetime(year, month, day)\n",
        "    day_name = x.strftime(\"%A\").upper()\n",
        "    print(day_name)\n",
        "else:\n",
        "    print(\"Year is not within the specified constraints.\")"
      ]
    },
    {
      "cell_type": "code",
      "source": [
        "from math import pow\n",
        "\n",
        "def compute_armstrong(x):\n",
        "    n = len(str(x))\n",
        "    armstrong_sum = sum(pow(int(i), n) for i in str(x))\n",
        "    return armstrong_sum == x\n",
        "\n",
        "number = int(input(\"Enter a number: \"))\n",
        "if compute_armstrong(number):\n",
        "    print(f\"{number} is an Armstrong number\")\n",
        "else:\n",
        "    print(f\"{number} is not an Armstrong number\")\n",
        ""
      ],
      "metadata": {
        "id": "dGlGYLE7keNU"
      },
      "execution_count": null,
      "outputs": []
    },
    {
      "cell_type": "code",
      "source": [
        "import math\n",
        "def edistance(x, y):\n",
        "    distance = math.sqrt((y[0]-x[0])**2+(y[1]-x[1])**2)\n",
        "    return distance\n",
        "\n"
      ],
      "metadata": {
        "id": "8_MmoHZmkhRx"
      },
      "execution_count": null,
      "outputs": []
    },
    {
      "cell_type": "code",
      "source": [
        "Mod1.py\n",
        "def display():\n",
        " \tprint(\"Hello World\")\n",
        "\n",
        "Mod2.py\n",
        "def sum(a, b):\n",
        " \treturn a+b\n",
        "sample_task3.py\n",
        "from T3 import mod1\n",
        "from T3 import mod2\n",
        "mod1.display()\n",
        "res = mod2.sum(1, 2)\n",
        "print(res)"
      ],
      "metadata": {
        "id": "1CZjWOx1klAL"
      },
      "execution_count": null,
      "outputs": []
    }
  ]
}